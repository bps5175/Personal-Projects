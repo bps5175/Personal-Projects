{
 "cells": [
  {
   "cell_type": "markdown",
   "metadata": {},
   "source": [
    "Change Return Program - The user enters a cost and then the amount of money given. The program will figure out the change and the number of quarters, dimes, nickels, pennies needed for the change."
   ]
  },
  {
   "cell_type": "code",
   "execution_count": 2,
   "metadata": {},
   "outputs": [
    {
     "name": "stdout",
     "output_type": "stream",
     "text": [
      "Enter the cost of the product: 10.50\n",
      "Enter the Amount of Money given: 11\n",
      "your change is:  0.5\n",
      "change is made up of {'Pennies': 0, 'Quarters': 2, 'Nickels': 0, 'Dimes': 0, 'Dollars': 0}\n"
     ]
    }
   ],
   "source": [
    "type_money = {\"Pennies\": 0, \"Quarters\": 0, \"Nickels\": 0, \n",
    "              \"Dimes\": 0, \"Dollars\": 0}\n",
    "\n",
    "cost = input('Enter the cost of the product: ')\n",
    "money = input('Enter the Amount of Money given: ')\n",
    "\n",
    "\n",
    "change = float(money) * 100 - float(cost) * 100\n",
    "change_output = change / 100\n",
    "\n",
    "#### THIS IS WHERE I ASKED FOR HELP\n",
    "if change > 0:\n",
    "    while change:\n",
    "        if change >= 100:\n",
    "            type_money['Dollars'] += 1\n",
    "            change -= 100\n",
    "        elif change >= 25:\n",
    "            type_money['Quarters'] += 1\n",
    "            change -= 25\n",
    "        elif change >= 10:\n",
    "            type_money['Dimes'] += 1\n",
    "            change -= 10\n",
    "        elif change >= 5:\n",
    "            type_money['Nickels'] += 1\n",
    "            change -= 5\n",
    "        else:\n",
    "            type_money['Pennies'] += 1\n",
    "            change -= 1\n",
    "##### THIS IS WHERE I ASKED FOR HELP ^^^^\n",
    "    print(\"your change is: \", change_output)\n",
    "    print(\"change is made up of\", type_money)\n",
    "else:\n",
    "    print(\"you dont have enough money\")"
   ]
  },
  {
   "cell_type": "code",
   "execution_count": null,
   "metadata": {},
   "outputs": [],
   "source": []
  }
 ],
 "metadata": {
  "kernelspec": {
   "display_name": "Python 3",
   "language": "python",
   "name": "python3"
  },
  "language_info": {
   "codemirror_mode": {
    "name": "ipython",
    "version": 3
   },
   "file_extension": ".py",
   "mimetype": "text/x-python",
   "name": "python",
   "nbconvert_exporter": "python",
   "pygments_lexer": "ipython3",
   "version": "3.7.3"
  }
 },
 "nbformat": 4,
 "nbformat_minor": 2
}
