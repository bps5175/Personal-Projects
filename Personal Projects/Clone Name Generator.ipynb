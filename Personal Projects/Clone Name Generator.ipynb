{
 "cells": [
  {
   "cell_type": "markdown",
   "metadata": {},
   "source": [
    "CT - Clone Trooper |\n",
    "CC - Clone Commandos |\n",
    "Alpha - Alpha-class ARC Trooper |\n",
    "ARC -Arc Trooper |\n"
   ]
  },
  {
   "cell_type": "code",
   "execution_count": 2,
   "metadata": {},
   "outputs": [],
   "source": [
    "import numpy as np\n",
    "from numpy import random"
   ]
  },
  {
   "cell_type": "code",
   "execution_count": null,
   "metadata": {},
   "outputs": [],
   "source": []
  },
  {
   "cell_type": "code",
   "execution_count": 6,
   "metadata": {},
   "outputs": [
    {
     "data": {
      "text/plain": [
       "'CT-7880 ready for duty!'"
      ]
     },
     "execution_count": 6,
     "metadata": {},
     "output_type": "execute_result"
    }
   ],
   "source": [
    "#Create a clone name using numpy random gen\n",
    "Clone_Name_Generator = ('CT-' + str(random.randint(7000,8000)))\n",
    "\n",
    "Clone_Name_Generator + ' ready for duty!'"
   ]
  },
  {
   "cell_type": "code",
   "execution_count": null,
   "metadata": {},
   "outputs": [],
   "source": []
  },
  {
   "cell_type": "code",
   "execution_count": null,
   "metadata": {},
   "outputs": [],
   "source": [
    "#Used a function in this case"
   ]
  },
  {
   "cell_type": "code",
   "execution_count": 8,
   "metadata": {},
   "outputs": [
    {
     "name": "stdout",
     "output_type": "stream",
     "text": [
      "CT-7249"
     ]
    }
   ],
   "source": [
    "def Clone_Trooper():\n",
    "    Clone_Name_Generator = ('CT-' + str(random.randint(7000,8000)))\n",
    "    for x in Clone_Name_Generator:\n",
    "        print(x,end=\"\")\n",
    "\n",
    "Clone_Trooper()"
   ]
  }
 ],
 "metadata": {
  "kernelspec": {
   "display_name": "Python 3",
   "language": "python",
   "name": "python3"
  }
 },
 "nbformat": 4,
 "nbformat_minor": 2
}
