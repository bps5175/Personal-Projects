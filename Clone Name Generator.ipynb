{
 "cells": [
  {
   "cell_type": "markdown",
   "metadata": {},
   "source": [
    "CT - Clone Trooper |\n",
    "CC - Clone Commander |\n",
    "Alpha - Alpha-class ARC Trooper |\n",
    "ARC -Arc Trooper | \n",
    "RC - Republic Commandos\n"
   ]
  },
  {
   "cell_type": "code",
   "execution_count": 2,
   "metadata": {},
   "outputs": [],
   "source": [
    "import numpy as np\n",
    "from numpy import random"
   ]
  },
  {
   "cell_type": "code",
   "execution_count": null,
   "metadata": {},
   "outputs": [],
   "source": []
  },
  {
   "cell_type": "code",
   "execution_count": 13,
   "metadata": {},
   "outputs": [
    {
     "data": {
      "text/plain": [
       "'CT-151 ready for duty!'"
      ]
     },
     "execution_count": 13,
     "metadata": {},
     "output_type": "execute_result"
    }
   ],
   "source": [
    "#Create a clone name using numpy random gen\n",
    "Clone_Name_Generator = ('CT-' + str(random.randint(99,8000)))\n",
    "\n",
    "Clone_Name_Generator + ' ready for duty!'"
   ]
  },
  {
   "cell_type": "code",
   "execution_count": null,
   "metadata": {},
   "outputs": [],
   "source": []
  },
  {
   "cell_type": "code",
   "execution_count": null,
   "metadata": {},
   "outputs": [],
   "source": [
    "#Used a function in this case"
   ]
  },
  {
   "cell_type": "code",
   "execution_count": 14,
   "metadata": {},
   "outputs": [
    {
     "name": "stdout",
     "output_type": "stream",
     "text": [
      "CT-2478"
     ]
    }
   ],
   "source": [
    "def Clone_Trooper():\n",
    "    Clone_Name_Generator = ('CT-' + str(random.randint(99,8000)))\n",
    "    for x in Clone_Name_Generator:\n",
    "        print(x,end=\"\")\n",
    "\n",
    "Clone_Trooper()"
   ]
  },
  {
   "cell_type": "code",
   "execution_count": null,
   "metadata": {},
   "outputs": [],
   "source": []
  },
  {
   "cell_type": "code",
   "execution_count": 1,
   "metadata": {},
   "outputs": [],
   "source": [
    "##Class Set for specific Clones\n",
    "\n",
    "#https://www.tutorialspoint.com/python/python_classes_objects.htm \n",
    "#Used above link as a reference point!!"
   ]
  },
  {
   "cell_type": "code",
   "execution_count": 56,
   "metadata": {},
   "outputs": [
    {
     "name": "stdout",
     "output_type": "stream",
     "text": [
      "Name :  CT-7567 | Nickname:  Rex | Legion:  501st\n",
      "Name :  CC-2224 | Nickname:  Cody | Legion:  212th\n",
      "Name :  CT-5555 | Nickname:  Fives | Legion:  501st\n",
      "Total Clones: 3\n"
     ]
    }
   ],
   "source": [
    "class Clones:\n",
    "    \n",
    "    cloneCount = 0\n",
    "    \n",
    "    def __init__(self, name, nickname, legion):\n",
    "        self.name = name\n",
    "        self.nickname = nickname\n",
    "        self.legion = legion\n",
    "        Clones.cloneCount +=1\n",
    "    def displayCount(self):\n",
    "        print (\"Total Clone %d\" % Clone.cloneCount)\n",
    "    def displayClones(self):\n",
    "        print (\"Name : \", self.name, \"| Nickname: \", self.nickname, \"| Legion: \", self.legion)\n",
    "        \n",
    "rex = Clones(\"CT-7567\", \"Rex\", \"501st\")\n",
    "cody = Clones(\"CC-2224\", \"Cody\", \"212th\")\n",
    "fives = Clones(\"CT-5555\", \"Fives\", \"501st\")\n",
    "rex.displayClones()\n",
    "cody.displayClones()\n",
    "fives.displayClones()\n",
    "\n",
    "print(\"Total Clones: %d\" % Clones.cloneCount)"
   ]
  },
  {
   "cell_type": "code",
   "execution_count": null,
   "metadata": {},
   "outputs": [],
   "source": []
  }
 ],
 "metadata": {
  "kernelspec": {
   "display_name": "Python 3",
   "language": "python",
   "name": "python3"
  },
  "language_info": {
   "codemirror_mode": {
    "name": "ipython",
    "version": 3
   },
   "file_extension": ".py",
   "mimetype": "text/x-python",
   "name": "python",
   "nbconvert_exporter": "python",
   "pygments_lexer": "ipython3",
   "version": "3.7.3"
  }
 },
 "nbformat": 4,
 "nbformat_minor": 2
}
