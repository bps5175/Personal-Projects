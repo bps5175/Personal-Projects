{
 "cells": [
  {
   "cell_type": "markdown",
   "metadata": {},
   "source": [
    "Change Return Program - The user enters a cost and then the amount of money given. The program will figure out the change and the number of quarters, dimes, nickels, pennies needed for the change."
   ]
  },
  {
   "cell_type": "code",
   "execution_count": 26,
   "metadata": {},
   "outputs": [
    {
     "name": "stdout",
     "output_type": "stream",
     "text": [
      "Enter the cost of the product2.75\n",
      "Enter the Amount of Money given: 3\n",
      "2.75 3 0.25\n",
      "Here is the amount of change:         0.25\n"
     ]
    }
   ],
   "source": [
    "Penny = .01\n",
    "Quarter = .25\n",
    "Nickel = .05\n",
    "Dime = .10\n",
    "Dollars = 1\n",
    "\n",
    "cost = input('Enter the cost of the product: ')\n",
    "money = input('Enter the Amount of Money given: ')\n",
    "\n",
    "change = float(cost) - float(money)\n",
    "    \n",
    "        \n",
    "        \n",
    "print(cost,money, abs(change))\n",
    "\n",
    "print('Here is the amount of change: ' +\"{:12.2f}\".format(abs(change)))"
   ]
  },
  {
   "cell_type": "code",
   "execution_count": 27,
   "metadata": {},
   "outputs": [
    {
     "name": "stdout",
     "output_type": "stream",
     "text": [
      "Enter the cost of the product: 2.5\n",
      "Enter the Amount of Money given: 3\n",
      "2.5 3 0.5\n",
      "Here is the amount of change:         0.50\n"
     ]
    }
   ],
   "source": [
    "Penny = .01\n",
    "Quarter = .25\n",
    "Nickel = .05\n",
    "Dime = .10\n",
    "Dollars = 1\n",
    "\n",
    "cost = input('Enter the cost of the product: ')\n",
    "money = input('Enter the Amount of Money given: ')\n",
    "\n",
    "change = float(cost) - float(money)\n",
    "    \n",
    "        \n",
    "        \n",
    "print(cost,money, abs(change))\n",
    "\n",
    "print('Here is the amount of change: ' +\"{:12.2f}\".format(abs(change)))\n",
    "\n",
    "if change > 1:\n"
   ]
  },
  {
   "cell_type": "code",
   "execution_count": null,
   "metadata": {},
   "outputs": [],
   "source": []
  }
 ],
 "metadata": {
  "kernelspec": {
   "display_name": "Python 3",
   "language": "python",
   "name": "python3"
  },
  "language_info": {
   "codemirror_mode": {
    "name": "ipython",
    "version": 3
   },
   "file_extension": ".py",
   "mimetype": "text/x-python",
   "name": "python",
   "nbconvert_exporter": "python",
   "pygments_lexer": "ipython3",
   "version": "3.7.3"
  }
 },
 "nbformat": 4,
 "nbformat_minor": 2
}
